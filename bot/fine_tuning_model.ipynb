{
 "cells": [
  {
   "cell_type": "code",
   "execution_count": 19,
   "id": "617d1898",
   "metadata": {},
   "outputs": [],
   "source": [
    "import pandas as pd\n",
    "import numpy as np\n",
    "import tensorflow as tf\n",
    "from tensorflow.keras.optimizers import Adam\n",
    "from tensorflow.keras.models import load_model\n",
    "from tensorflow.keras.preprocessing.text import Tokenizer\n",
    "from tensorflow.keras.preprocessing.sequence import pad_sequences\n",
    "from tensorflow.keras.callbacks import ReduceLROnPlateau, EarlyStopping\n",
    "from sklearn.preprocessing import LabelEncoder\n",
    "from custom_layers import AttentionLayer\n",
    "from custom_losses import FocalLoss\n",
    "from text_preprocessing import preprocess_text\n",
    "import pickle"
   ]
  },
  {
   "cell_type": "code",
   "execution_count": 2,
   "id": "a5622e02",
   "metadata": {},
   "outputs": [],
   "source": [
    "ERROR_CSV = r'C:\\Study\\Python\\WebsiteClassification\\bot\\classification_errors.csv'\n",
    "MODEL_PATH = r'C:\\Study\\Python\\WebsiteClassification\\bot\\text_classification_model.keras'\n",
    "TOKENIZER_PATH = r'C:\\Study\\Python\\WebsiteClassification\\bot\\tokenizer.pkl'\n",
    "LABEL_ENCODER_PATH = r'C:\\Study\\Python\\WebsiteClassification\\bot\\label_encoder.pkl'\n",
    "UPDATED_MODEL_PATH = 'updated_text_classification_model.keras'\n",
    "UPDATED_LABEL_ENCODER_PATH = 'updated_label_encoder.pkl'"
   ]
  },
  {
   "cell_type": "code",
   "execution_count": 3,
   "id": "3da4fcbd",
   "metadata": {},
   "outputs": [],
   "source": [
    "def load_tokenizer_and_encoder():\n",
    "    with open(TOKENIZER_PATH, 'rb') as f:\n",
    "        tokenizer = pickle.load(f)\n",
    "    with open(LABEL_ENCODER_PATH, 'rb') as f:\n",
    "        label_encoder = pickle.load(f)\n",
    "\n",
    "    return tokenizer, label_encoder\n",
    "\n",
    "\n",
    "def prepare_data(errors_csv):\n",
    "    df = pd.read_csv(errors_csv, sep=';', encoding='utf-8-sig')\n",
    "    X_texts = (df['title'].fillna('') + \" \" + df['summary'].fillna('')).tolist()\n",
    "    y_labels = df['true_topic'].tolist()\n",
    "\n",
    "    return X_texts, y_labels"
   ]
  },
  {
   "cell_type": "code",
   "execution_count": 20,
   "id": "2931a462",
   "metadata": {},
   "outputs": [],
   "source": [
    "def retrain_model(X_train, y_train, model_path, tokenizer, label_encoder, maxlen=128):\n",
    "    model = tf.keras.models.load_model(\n",
    "        model_path,\n",
    "        custom_objects={'AttentionLayer': AttentionLayer, 'FocalLoss': FocalLoss}\n",
    "    )\n",
    "\n",
    "    sequences = tokenizer.texts_to_sequences(X_train)\n",
    "    X_padded = pad_sequences(sequences, maxlen=maxlen, padding='post', truncating='post')\n",
    "    y_encoded = label_encoder.transform(y_train)\n",
    "\n",
    "    model.compile(\n",
    "        optimizer=Adam(learning_rate=1e-5),\n",
    "        loss='sparse_categorical_crossentropy',\n",
    "        metrics=['accuracy']\n",
    "    )\n",
    "\n",
    "    early_stop = EarlyStopping(monitor='val_loss', patience=3, restore_best_weights=True)\n",
    "    reduce_lr = ReduceLROnPlateau(monitor='val_loss', factor=0.2, patience=2, min_lr=1e-6)\n",
    "\n",
    "    history = model.fit(\n",
    "        X_padded,\n",
    "        y_encoded,\n",
    "        epochs=50,\n",
    "        batch_size=2,\n",
    "        validation_split=0.1,\n",
    "        callbacks=[early_stop, reduce_lr]\n",
    "    )\n",
    "\n",
    "    loss, accuracy = model.evaluate(X_padded, y_encoded, verbose=0)\n",
    "    print(f\"Accuracy: {accuracy:.2f}, Loss: {loss:.2f}\")\n",
    "\n",
    "\n",
    "    model.save(UPDATED_MODEL_PATH)\n",
    "    with open(UPDATED_LABEL_ENCODER_PATH, 'wb') as f:\n",
    "        pickle.dump(label_encoder, f)\n",
    "\n",
    "    return history"
   ]
  },
  {
   "cell_type": "code",
   "execution_count": 5,
   "id": "2df2ae5e",
   "metadata": {},
   "outputs": [],
   "source": [
    "X_error_texts, y_error_topics = prepare_data(ERROR_CSV)"
   ]
  },
  {
   "cell_type": "code",
   "execution_count": 6,
   "id": "6484dac2",
   "metadata": {},
   "outputs": [],
   "source": [
    "tokenizer, label_encoder = load_tokenizer_and_encoder()"
   ]
  },
  {
   "cell_type": "code",
   "execution_count": 7,
   "id": "351d4c26",
   "metadata": {},
   "outputs": [],
   "source": [
    "X_cleaned = [preprocess_text(text) for text in X_error_texts]\n",
    "valid_indices = [i for i, text in enumerate(X_cleaned) if len(text.split()) >= 5]\n",
    "X_cleaned = [X_cleaned[i] for i in valid_indices]\n",
    "y_train_filtered = [y_error_topics[i] for i in valid_indices]"
   ]
  },
  {
   "cell_type": "code",
   "execution_count": 21,
   "id": "b13986f8",
   "metadata": {},
   "outputs": [
    {
     "name": "stderr",
     "output_type": "stream",
     "text": [
      "c:\\Users\\Даниил\\AppData\\Local\\Programs\\Python\\Python311\\Lib\\site-packages\\keras\\src\\saving\\saving_lib.py:757: UserWarning: Skipping variable loading for optimizer 'rmsprop', because it has 16 variables whereas the saved optimizer has 30 variables. \n",
      "  saveable.load_own_variables(weights_store.get(inner_path))\n"
     ]
    },
    {
     "name": "stdout",
     "output_type": "stream",
     "text": [
      "Epoch 1/50\n",
      "\u001b[1m64/64\u001b[0m \u001b[32m━━━━━━━━━━━━━━━━━━━━\u001b[0m\u001b[37m\u001b[0m \u001b[1m21s\u001b[0m 154ms/step - accuracy: 0.0734 - loss: 2.3974 - val_accuracy: 0.0000e+00 - val_loss: 2.2999 - learning_rate: 1.0000e-05\n",
      "Epoch 2/50\n",
      "\u001b[1m64/64\u001b[0m \u001b[32m━━━━━━━━━━━━━━━━━━━━\u001b[0m\u001b[37m\u001b[0m \u001b[1m10s\u001b[0m 153ms/step - accuracy: 0.1999 - loss: 2.1505 - val_accuracy: 0.0000e+00 - val_loss: 2.2710 - learning_rate: 1.0000e-05\n",
      "Epoch 3/50\n",
      "\u001b[1m64/64\u001b[0m \u001b[32m━━━━━━━━━━━━━━━━━━━━\u001b[0m\u001b[37m\u001b[0m \u001b[1m11s\u001b[0m 164ms/step - accuracy: 0.2176 - loss: 2.0346 - val_accuracy: 0.1333 - val_loss: 2.2545 - learning_rate: 1.0000e-05\n",
      "Epoch 4/50\n",
      "\u001b[1m64/64\u001b[0m \u001b[32m━━━━━━━━━━━━━━━━━━━━\u001b[0m\u001b[37m\u001b[0m \u001b[1m9s\u001b[0m 136ms/step - accuracy: 0.2673 - loss: 2.0154 - val_accuracy: 0.2000 - val_loss: 2.2415 - learning_rate: 1.0000e-05\n",
      "Epoch 5/50\n",
      "\u001b[1m64/64\u001b[0m \u001b[32m━━━━━━━━━━━━━━━━━━━━\u001b[0m\u001b[37m\u001b[0m \u001b[1m8s\u001b[0m 122ms/step - accuracy: 0.3832 - loss: 1.8810 - val_accuracy: 0.1333 - val_loss: 2.2451 - learning_rate: 1.0000e-05\n",
      "Epoch 6/50\n",
      "\u001b[1m64/64\u001b[0m \u001b[32m━━━━━━━━━━━━━━━━━━━━\u001b[0m\u001b[37m\u001b[0m \u001b[1m8s\u001b[0m 129ms/step - accuracy: 0.3097 - loss: 1.8253 - val_accuracy: 0.2000 - val_loss: 2.2176 - learning_rate: 1.0000e-05\n",
      "Epoch 7/50\n",
      "\u001b[1m64/64\u001b[0m \u001b[32m━━━━━━━━━━━━━━━━━━━━\u001b[0m\u001b[37m\u001b[0m \u001b[1m8s\u001b[0m 123ms/step - accuracy: 0.3705 - loss: 1.6582 - val_accuracy: 0.0667 - val_loss: 2.2245 - learning_rate: 1.0000e-05\n",
      "Epoch 8/50\n",
      "\u001b[1m64/64\u001b[0m \u001b[32m━━━━━━━━━━━━━━━━━━━━\u001b[0m\u001b[37m\u001b[0m \u001b[1m8s\u001b[0m 129ms/step - accuracy: 0.4142 - loss: 1.6414 - val_accuracy: 0.0667 - val_loss: 2.2260 - learning_rate: 1.0000e-05\n",
      "Epoch 9/50\n",
      "\u001b[1m64/64\u001b[0m \u001b[32m━━━━━━━━━━━━━━━━━━━━\u001b[0m\u001b[37m\u001b[0m \u001b[1m8s\u001b[0m 128ms/step - accuracy: 0.4739 - loss: 1.5182 - val_accuracy: 0.0667 - val_loss: 2.2279 - learning_rate: 2.0000e-06\n",
      "Accuracy: 0.39, Loss: 1.73\n"
     ]
    }
   ],
   "source": [
    "history = retrain_model(X_cleaned, y_train_filtered, MODEL_PATH, tokenizer, label_encoder)"
   ]
  },
  {
   "cell_type": "code",
   "execution_count": null,
   "id": "7e50c383",
   "metadata": {},
   "outputs": [],
   "source": []
  }
 ],
 "metadata": {
  "kernelspec": {
   "display_name": "Python 3",
   "language": "python",
   "name": "python3"
  },
  "language_info": {
   "codemirror_mode": {
    "name": "ipython",
    "version": 3
   },
   "file_extension": ".py",
   "mimetype": "text/x-python",
   "name": "python",
   "nbconvert_exporter": "python",
   "pygments_lexer": "ipython3",
   "version": "3.11.5"
  }
 },
 "nbformat": 4,
 "nbformat_minor": 5
}
